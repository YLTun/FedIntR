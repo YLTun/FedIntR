{
 "cells": [
  {
   "cell_type": "code",
   "execution_count": 1,
   "metadata": {
    "ExecuteTime": {
     "end_time": "2022-09-27T06:02:06.612062Z",
     "start_time": "2022-09-27T06:02:06.282035Z"
    }
   },
   "outputs": [],
   "source": [
    "import os\n",
    "import glob\n",
    "import shutil\n",
    "import numpy as np\n",
    "import random\n",
    "import matplotlib.pyplot as plt"
   ]
  },
  {
   "cell_type": "code",
   "execution_count": 2,
   "metadata": {
    "ExecuteTime": {
     "end_time": "2022-09-27T06:02:06.616237Z",
     "start_time": "2022-09-27T06:02:06.613697Z"
    }
   },
   "outputs": [],
   "source": [
    "import sys\n",
    "sys.path.insert(1, os.path.join(sys.path[0], '../'))"
   ]
  },
  {
   "cell_type": "code",
   "execution_count": 3,
   "metadata": {
    "ExecuteTime": {
     "end_time": "2022-09-27T06:02:07.554047Z",
     "start_time": "2022-09-27T06:02:06.617729Z"
    }
   },
   "outputs": [],
   "source": [
    "import utils"
   ]
  },
  {
   "cell_type": "code",
   "execution_count": 4,
   "metadata": {
    "ExecuteTime": {
     "end_time": "2022-09-27T06:02:07.559712Z",
     "start_time": "2022-09-27T06:02:07.555520Z"
    }
   },
   "outputs": [
    {
     "name": "stdout",
     "output_type": "stream",
     "text": [
      "['airplane', 'automobile', 'bird', 'cat', 'deer', 'dog', 'frog', 'horse', 'ship', 'truck']\n"
     ]
    }
   ],
   "source": [
    "# Define dataset.\n",
    "# dataset_name = 'fashion_mnist'\n",
    "dataset_name = 'cifar_10'\n",
    "# dataset_name = 'cifar_100'\n",
    "# dataset_name = 'svhn'\n",
    "# dataset_name = 'tiny_imagenet_200'\n",
    "\n",
    "dataset_dir = '../datasets/' + dataset_name\n",
    "train_dir = os.path.join(dataset_dir, 'train')\n",
    "class_labels = os.listdir(train_dir)\n",
    "class_labels.sort()\n",
    "print(class_labels)"
   ]
  },
  {
   "cell_type": "code",
   "execution_count": 5,
   "metadata": {
    "ExecuteTime": {
     "end_time": "2022-09-27T06:02:07.995471Z",
     "start_time": "2022-09-27T06:02:07.560999Z"
    }
   },
   "outputs": [
    {
     "name": "stdout",
     "output_type": "stream",
     "text": [
      "airplane : 5000\n",
      "automobile : 5000\n",
      "bird : 5000\n",
      "cat : 5000\n",
      "deer : 5000\n",
      "dog : 5000\n",
      "frog : 5000\n",
      "horse : 5000\n",
      "ship : 5000\n",
      "truck : 5000\n"
     ]
    }
   ],
   "source": [
    "# Read image list into a dictionary for each class.\n",
    "train_img_dict = {}\n",
    "for class_label in class_labels:\n",
    "    class_folder = os.path.join(train_dir, class_label)\n",
    "    file_extensions = ['*.JPG', '*.JPEG', '*.jpg', '*.png', '*.PNG']\n",
    "    img_list = []\n",
    "    for extension in file_extensions:\n",
    "        img_list.extend(glob.glob(os.path.join(class_folder, extension)))\n",
    "    train_img_dict[class_label] = img_list\n",
    "    print(class_label, ':', len(img_list))"
   ]
  },
  {
   "cell_type": "code",
   "execution_count": 6,
   "metadata": {
    "ExecuteTime": {
     "end_time": "2022-09-27T06:02:07.999166Z",
     "start_time": "2022-09-27T06:02:07.996532Z"
    }
   },
   "outputs": [],
   "source": [
    "def get_dirichlet_proportions(beta, num_clients, num_total_samples):\n",
    "    rng = np.random.default_rng()\n",
    "    proportions = rng.dirichlet(np.repeat(beta, num_clients))\n",
    "    proportions = proportions / proportions.sum()\n",
    "    proportions = np.round(proportions * num_total_samples).astype(int)[:-1]\n",
    "    proportions = np.append(proportions, max(0, num_total_samples - sum(proportions)))           # For the last client.\n",
    "    return proportions"
   ]
  },
  {
   "cell_type": "code",
   "execution_count": 7,
   "metadata": {
    "ExecuteTime": {
     "end_time": "2022-09-27T06:02:08.012804Z",
     "start_time": "2022-09-27T06:02:08.007765Z"
    }
   },
   "outputs": [],
   "source": [
    "# Define distribution settings.\n",
    "num_clients = 50\n",
    "beta = 0.5 # [0.1, 0.5, 5]\n",
    "\n",
    "client_data_dir = os.path.join('./client_data/', dataset_name + '_c_{}_beta_{}'.format(num_clients, beta))"
   ]
  },
  {
   "cell_type": "code",
   "execution_count": 8,
   "metadata": {
    "ExecuteTime": {
     "end_time": "2022-09-27T06:02:08.016119Z",
     "start_time": "2022-09-27T06:02:08.014116Z"
    }
   },
   "outputs": [],
   "source": [
    "# shutil.rmtree(client_data_dir)"
   ]
  },
  {
   "cell_type": "code",
   "execution_count": null,
   "metadata": {
    "ExecuteTime": {
     "end_time": "2022-11-04T04:48:45.482852Z",
     "start_time": "2022-11-04T04:48:45.433122Z"
    }
   },
   "outputs": [],
   "source": [
    "data_notes = {}\n",
    "\n",
    "for class_label in class_labels:\n",
    "\n",
    "    sample_list = train_img_dict[class_label]\n",
    "    random.shuffle(sample_list)\n",
    "    num_total_samples = len(sample_list)\n",
    "    \n",
    "    proportions = get_dirichlet_proportions(beta, num_clients, num_total_samples)\n",
    "    print('{:>12} : {}'.format(class_label, proportions))\n",
    "    \n",
    "    start_idx = 0\n",
    "    for client_idx in range(num_clients):\n",
    "        end_idx = start_idx + proportions[client_idx]\n",
    "        dest_dir = os.path.join(client_data_dir, str(client_idx), class_label)\n",
    "        os.makedirs(dest_dir)\n",
    "        for img in sample_list[start_idx:end_idx]:\n",
    "            shutil.copy(img, dest_dir)\n",
    "        start_idx = end_idx\n",
    "        data_notes.setdefault(client_idx, {})\n",
    "        data_notes[client_idx][class_label] = proportions[client_idx]"
   ]
  },
  {
   "cell_type": "code",
   "execution_count": 10,
   "metadata": {
    "ExecuteTime": {
     "end_time": "2022-09-27T06:02:17.831375Z",
     "start_time": "2022-09-27T06:02:17.823315Z"
    }
   },
   "outputs": [],
   "source": [
    "for client_idx in range(num_clients):\n",
    "    note_file = os.path.join(os.path.join(client_data_dir, str(client_idx), 'notes.txt'))\n",
    "    txt = ''\n",
    "    for class_label, num_samples in data_notes[client_idx].items():\n",
    "        buff = '{:15} : {}\\n'.format(class_label, num_samples)\n",
    "        txt += buff\n",
    "    utils.save_notes(note_file, txt)"
   ]
  },
  {
   "cell_type": "code",
   "execution_count": 11,
   "metadata": {
    "ExecuteTime": {
     "end_time": "2022-09-27T06:02:17.882198Z",
     "start_time": "2022-09-27T06:02:17.832786Z"
    }
   },
   "outputs": [],
   "source": [
    "mat = np.zeros((num_clients, len(class_labels)))\n",
    "\n",
    "x, y, n = [], [], []\n",
    "for idx in range(num_clients):\n",
    "    client_dir = os.path.join(client_data_dir, str(idx))\n",
    "    for class_idx, label in enumerate(class_labels):\n",
    "        class_dir = os.path.join(client_dir, label)\n",
    "        if os.path.exists(class_dir):\n",
    "            n.append((1*len(os.listdir(class_dir)))**1)\n",
    "            mat[idx][class_idx] = len(os.listdir(class_dir))\n",
    "        else:\n",
    "            n.append(0)\n",
    "            mat[idx][class_idx] = 0\n",
    "        y.append(label)\n",
    "        x.append(idx)"
   ]
  },
  {
   "cell_type": "code",
   "execution_count": 12,
   "metadata": {
    "ExecuteTime": {
     "end_time": "2022-09-27T06:02:18.875980Z",
     "start_time": "2022-09-27T06:02:17.883314Z"
    }
   },
   "outputs": [
    {
     "data": {
      "image/png": "[encoded data removed]",
      "text/plain": [
       "<Figure size 432x288 with 2 Axes>"
      ]
     },
     "metadata": {
      "needs_background": "light"
     },
     "output_type": "display_data"
    }
   ],
   "source": [
    "fig = plt.figure(figsize=(6,4))\n",
    "ax = fig.add_subplot()\n",
    "\n",
    "im = ax.pcolormesh(np.transpose(mat), edgecolors='k', linewidth=0, cmap=plt.get_cmap('Blues'))\n",
    "cbar = fig.colorbar(im, ax=ax)\n",
    "cbar.ax.tick_params(labelsize=12)\n",
    "\n",
    "ax.set_xlabel('Client $i$', fontsize=14)\n",
    "ax.set_ylabel('Classes', fontsize=14)\n",
    "\n",
    "yticks = class_labels\n",
    "\n",
    "ax.set_yticks(range(len(yticks)))\n",
    "ax.set_yticklabels(yticks)  \n",
    "\n",
    "ax.set_xticks(range(num_clients))\n",
    "\n",
    "ax.yaxis.set_tick_params(labelsize=12)\n",
    "ax.xaxis.set_tick_params(labelsize=12)\n",
    "plt.savefig(os.path.join(client_data_dir, 'client_data_amount.png'), dpi=300, bbox_inches='tight')\n",
    "plt.show()"
   ]
  },
  {
   "cell_type": "code",
   "execution_count": 13,
   "metadata": {
    "ExecuteTime": {
     "end_time": "2022-09-27T06:02:18.879333Z",
     "start_time": "2022-09-27T06:02:18.877315Z"
    }
   },
   "outputs": [],
   "source": [
    "# import os\n",
    "\n",
    "\n",
    "# Read image list into a dictionary for each class.\n",
    "# train_img_dict = {}\n",
    "# for class_label in class_labels:\n",
    "    \n",
    "#     class_folder = os.path.join(train_dir, class_label, 'images')\n",
    "#     file_extensions = ['*.JPG', '*.JPEG', '*.jpg', '*.png', '*.PNG']\n",
    "#     img_paths = []\n",
    "#     for extension in file_extensions:\n",
    "#         img_paths.extend(glob.glob(os.path.join(class_folder, extension)))\n",
    "    \n",
    "#     dest_dir = os.path.join(train_dir, class_label)\n",
    "#     for img in img_paths:\n",
    "#         shutil.move(img, dest_dir)\n",
    "    \n",
    "#     txt_paths = glob.glob(os.path.join(train_dir, class_label, '*.txt'))\n",
    "#     for txt in txt_paths:\n",
    "#         shutil.move(txt, dataset_dir)\n",
    "    \n",
    "#     img_list = glob.glob(os.path.join(class_folder, '*.JPG')) + glob.glob(os.path.join(class_folder, '*.jpg')) + glob.glob(os.path.join(class_folder, '*.png'))           \n",
    "#     train_img_dict[class_label] = img_list\n",
    "#     print(class_label, ':', len(img_list))\n",
    "\n",
    "#     folder_path = os.path.join(train_dir, class_label, 'images')\n",
    "#     shutil.rmtree(folder_path)\n"
   ]
  }
 ],
 "metadata": {
  "kernelspec": {
   "display_name": "Python 3 (ipykernel)",
   "language": "python",
   "name": "python3"
  },
  "language_info": {
   "codemirror_mode": {
    "name": "ipython",
    "version": 3
   },
   "file_extension": ".py",
   "mimetype": "text/x-python",
   "name": "python",
   "nbconvert_exporter": "python",
   "pygments_lexer": "ipython3",
   "version": "3.9.0"
  }
 },
 "nbformat": 4,
 "nbformat_minor": 4
}
